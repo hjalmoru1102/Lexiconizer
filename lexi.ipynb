{
 "metadata": {
  "language_info": {
   "codemirror_mode": {
    "name": "ipython",
    "version": 3
   },
   "file_extension": ".py",
   "mimetype": "text/x-python",
   "name": "python",
   "nbconvert_exporter": "python",
   "pygments_lexer": "ipython3",
   "version": "3.8.3-final"
  },
  "orig_nbformat": 2,
  "kernelspec": {
   "name": "python3",
   "display_name": "Python 3",
   "language": "python"
  }
 },
 "nbformat": 4,
 "nbformat_minor": 2,
 "cells": [
  {
   "cell_type": "code",
   "execution_count": 1,
   "metadata": {},
   "outputs": [],
   "source": [
    "import pandas as pd\n",
    "import numpy as np\n"
   ]
  },
  {
   "cell_type": "code",
   "execution_count": 3,
   "metadata": {},
   "outputs": [
    {
     "output_type": "execute_result",
     "data": {
      "text/plain": [
       "60"
      ]
     },
     "metadata": {},
     "execution_count": 3
    }
   ],
   "source": [
    "hema = \"loading utilities to load several standard external datasets\"\n",
    "len(hema) 6358"
   ]
  },
  {
   "cell_type": "code",
   "execution_count": 6,
   "metadata": {
    "tags": []
   },
   "outputs": [],
   "source": [
    "from tika import parser # pip install tika\n",
    "\n",
    "raw = parser.from_file('Encyclopedia of Human Body Systems ( PDFDrive ).pdf' )\n",
    "biology=raw['content']"
   ]
  },
  {
   "cell_type": "code",
   "execution_count": 35,
   "metadata": {},
   "outputs": [],
   "source": [
    "# biology[6358:]"
   ]
  },
  {
   "cell_type": "code",
   "execution_count": null,
   "metadata": {},
   "outputs": [],
   "source": [
    "for i in biology[6358:]:\n",
    "    if i== "
   ]
  },
  {
   "cell_type": "code",
   "execution_count": null,
   "metadata": {},
   "outputs": [],
   "source": [
    "# remove indexes and glossary. "
   ]
  },
  {
   "cell_type": "code",
   "execution_count": null,
   "metadata": {},
   "outputs": [],
   "source": []
  },
  {
   "cell_type": "code",
   "execution_count": 42,
   "metadata": {},
   "outputs": [
    {
     "output_type": "execute_result",
     "data": {
      "text/plain": [
       "2000"
      ]
     },
     "metadata": {},
     "execution_count": 42
    }
   ],
   "source": [
    "#\n",
    "#cut the list into smalled list of sequence and tag is according to subject.\n",
    "#train it to RNN. "
   ]
  },
  {
   "cell_type": "code",
   "execution_count": 25,
   "metadata": {},
   "outputs": [],
   "source": [
    "a= \"The Encyclopedia of the Human Body Systems provides an overview of the physiology of the major organ systems of the body. For the purposes of this book, a system is deﬁned as an organ group that works to perform a function for the body. This book looks at 11 systems, with each chapter dedicated to explor- ing a speciﬁc system. The ﬁrst chapter of the book provides an overview of the human body, including a look at its cellular foundation, chemical composition, and how the body is organized as well as an explanation of anatomical terms used to describe different areas of the human body. The subsequent chapters then focus on each of the systems. The purpose of this organization is so that readers can understand the basics of the human body and then go on to learn about each system. The primary organs and functions of each system that are covered in this book’s chapters are outlined below, as well in Table A. It’s important to note that while each system does have its own distinct function, the sys- tems interact with each other and rely on the organs of other systems to function properly\""
   ]
  },
  {
   "cell_type": "code",
   "execution_count": 26,
   "metadata": {},
   "outputs": [
    {
     "output_type": "execute_result",
     "data": {
      "text/plain": [
       "1102"
      ]
     },
     "metadata": {},
     "execution_count": 26
    }
   ],
   "source": [
    "len(a)"
   ]
  },
  {
   "cell_type": "code",
   "execution_count": 27,
   "metadata": {},
   "outputs": [
    {
     "output_type": "execute_result",
     "data": {
      "text/plain": [
       "6329"
      ]
     },
     "metadata": {},
     "execution_count": 27
    }
   ],
   "source": [
    "5227+1102"
   ]
  },
  {
   "cell_type": "code",
   "execution_count": 30,
   "metadata": {},
   "outputs": [],
   "source": [
    "b=\"The Circulatory System: The major organ is\""
   ]
  },
  {
   "cell_type": "code",
   "execution_count": 31,
   "metadata": {},
   "outputs": [
    {
     "output_type": "execute_result",
     "data": {
      "text/plain": [
       "42"
      ]
     },
     "metadata": {},
     "execution_count": 31
    }
   ],
   "source": [
    "len(b)"
   ]
  },
  {
   "cell_type": "code",
   "execution_count": null,
   "metadata": {},
   "outputs": [],
   "source": []
  }
 ]
}